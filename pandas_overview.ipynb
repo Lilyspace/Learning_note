{
 "cells": [
  {
   "cell_type": "markdown",
   "metadata": {},
   "source": [
    "Pandas数据分析流程"
   ]
  },
  {
   "cell_type": "markdown",
   "metadata": {},
   "source": [
    "读取数据"
   ]
  },
  {
   "cell_type": "code",
   "execution_count": null,
   "metadata": {},
   "outputs": [],
   "source": [
    "import pandas as pd\n",
    "\n",
    "df = pd.read_excel('http://www.gairuo.com/file/data/dataset/team.xlsx')\n",
    "df = pd.read_excel('team.xlsx')"
   ]
  },
  {
   "cell_type": "markdown",
   "metadata": {},
   "source": [
    "查看数据"
   ]
  },
  {
   "cell_type": "code",
   "execution_count": null,
   "metadata": {},
   "outputs": [],
   "source": [
    "df.head() #查看前五条\n",
    "df.tail() #查看最后5条\n",
    "df.sample() #随机查看5条"
   ]
  },
  {
   "cell_type": "markdown",
   "metadata": {},
   "source": [
    "验证数据：验证数据加载是否正确，数据大小是否正常"
   ]
  },
  {
   "cell_type": "code",
   "execution_count": null,
   "metadata": {},
   "outputs": [],
   "source": [
    "df.shape  #查看行数和列数\n",
    "df.info() #查看索引，数据类型和内存信息\n",
    "df.describe() #查看数值型列的汇总统计\n",
    "df.dtypes #查看各字段类型\n",
    "df.axes  #显示数据行和列名\n",
    "df.columns #列名"
   ]
  },
  {
   "cell_type": "markdown",
   "metadata": {},
   "source": [
    "建立索引"
   ]
  },
  {
   "cell_type": "code",
   "execution_count": null,
   "metadata": {},
   "outputs": [],
   "source": [
    "df.set_index('name', inplace=True) #inplace=True会将设定好的索引数据赋值给df,使索引生效"
   ]
  },
  {
   "cell_type": "markdown",
   "metadata": {},
   "source": [
    "数据选取"
   ]
  },
  {
   "cell_type": "code",
   "execution_count": null,
   "metadata": {},
   "outputs": [],
   "source": [
    "#选择单列\n",
    "df['Q1']\n",
    "df.Q1\n",
    "\n",
    "#选择多列\n",
    "df[['team','Q1']]\n",
    "df.loc[:,['team','Q1']] #df.loc[x,y]"
   ]
  },
  {
   "cell_type": "code",
   "execution_count": null,
   "metadata": {},
   "outputs": [],
   "source": [
    "#选择行\n",
    "\n",
    "#指定索引\n",
    "df[df.index == 'Liver']\n",
    "\n",
    "#用自然索引\n",
    "df[0:3]  #前面三行\n",
    "df[0:10:2] #在前面10个中，每两个取一个\n",
    "df.iloc[:10,:] #前10行"
   ]
  },
  {
   "cell_type": "code",
   "execution_count": null,
   "metadata": {},
   "outputs": [],
   "source": [
    "#指定行和列\n",
    "df.loc['Ben', 'Q1':'Q4'] #只看Ben四个季度的成绩\n",
    "df.loc['Eorge':'Alexander', 'team':'Q4'] #指定'Eorge':'Alexander'行，'team':'Q4'列区间"
   ]
  },
  {
   "cell_type": "code",
   "execution_count": null,
   "metadata": {},
   "outputs": [],
   "source": [
    "条件选择\n",
    "\n",
    "#单一条件\n",
    "df[df.Q1>90] Q1列>90\n",
    "df[df.team == 'C'] #team列为‘C’\n",
    "df[df.index == 'Oscar'] #指定索引\n",
    "\n",
    "#组合条件\n",
    "df[(df['Q1']>90)&(df['team']=='C'))]\n",
    "df[df['team'] == 'C'].loc[df.Q1>90]"
   ]
  },
  {
   "cell_type": "markdown",
   "metadata": {},
   "source": [
    "排序"
   ]
  },
  {
   "cell_type": "code",
   "execution_count": null,
   "metadata": {},
   "outputs": [],
   "source": [
    "df.sort_values(by='Q1') #按Q1升序\n",
    "df.sort_values(by='Q1'， ascending=False) #降序\n",
    "\n",
    "df.sort_values(['team','Q1'], ascending=[True,False])"
   ]
  },
  {
   "cell_type": "markdown",
   "metadata": {},
   "source": [
    "分组聚合"
   ]
  },
  {
   "cell_type": "code",
   "execution_count": null,
   "metadata": {},
   "outputs": [],
   "source": [
    "df.groupby('team').sum()\n",
    "df.groupby('team').mean()\n",
    "\n",
    "df.groupby('team').agg()({'Q1':sum,'Q2':'count','Q3':'mean','Q4':max})"
   ]
  },
  {
   "cell_type": "markdown",
   "metadata": {},
   "source": [
    "转置"
   ]
  },
  {
   "cell_type": "code",
   "execution_count": null,
   "metadata": {},
   "outputs": [],
   "source": [
    "df.groupby('team').sum().T"
   ]
  },
  {
   "cell_type": "markdown",
   "metadata": {},
   "source": [
    "新增列"
   ]
  },
  {
   "cell_type": "code",
   "execution_count": null,
   "metadata": {},
   "outputs": [],
   "source": [
    "df['total'] = df.loc[:,'Q1':'Q4'].apply(lambda x:sum(x), axis=1)\n",
    "df['total'] = df.sum(axis=1) #把所有为数字的列相加"
   ]
  },
  {
   "cell_type": "markdown",
   "metadata": {},
   "source": [
    "统计分析"
   ]
  },
  {
   "cell_type": "code",
   "execution_count": null,
   "metadata": {},
   "outputs": [],
   "source": [
    "df.mean() #返回所有列均值\n",
    "df.mean(1) #返回所有行均值\n",
    "df.corr() #返回列与列之间的相关系数\n",
    "df.count() #返回每一列中非空值个数\n",
    "df.max() #返回每一列的最大值\n",
    "df.min() #返回每一列的最小值\n",
    "df.median() #返回每一列中位数\n",
    "df.std() #返回每一列的标准差\n",
    "df.var() #方差\n",
    "s.mode() #众数\n"
   ]
  },
  {
   "cell_type": "markdown",
   "metadata": {},
   "source": [
    "绘图"
   ]
  },
  {
   "cell_type": "code",
   "execution_count": null,
   "metadata": {},
   "outputs": [],
   "source": [
    "df['Q1'].plot() #Q1成绩折线图\n",
    "df.loc['Ben','Q1':'Q4'].plot() #Ben四个季度成绩变化\n",
    "\n",
    "df.loc['Ben','Q1':'Q4'].plot.bar() #柱状图\n",
    "df.loc['Ben','Q1':'Q4'].plot.barth() #横向柱状图\n",
    "\n",
    "df.groupby('team').sum().T.plot() #各team四季度总成绩趋势\n",
    "df.groupby('team').count().Q1.plot.pie() #各组人数对比"
   ]
  },
  {
   "cell_type": "code",
   "execution_count": null,
   "metadata": {},
   "outputs": [],
   "source": []
  }
 ],
 "metadata": {
  "kernelspec": {
   "display_name": "Python 3.10.5 64-bit",
   "language": "python",
   "name": "python3"
  },
  "language_info": {
   "codemirror_mode": {
    "name": "ipython",
    "version": 3
   },
   "file_extension": ".py",
   "mimetype": "text/x-python",
   "name": "python",
   "nbconvert_exporter": "python",
   "pygments_lexer": "ipython3",
   "version": "3.10.5"
  },
  "orig_nbformat": 4,
  "vscode": {
   "interpreter": {
    "hash": "ef53e2d56b69f21cbdf9472524760b0d49e54fbb6e4f1956594431d50ac66008"
   }
  }
 },
 "nbformat": 4,
 "nbformat_minor": 2
}
