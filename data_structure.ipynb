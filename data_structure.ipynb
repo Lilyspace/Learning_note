{
 "cells": [
  {
   "cell_type": "markdown",
   "metadata": {},
   "source": [
    "Python 数据结构\n",
    "\n",
    "不可变数据：数字，字符串，元组\n",
    "可变数字：列表，字典，集合"
   ]
  },
  {
   "cell_type": "code",
   "execution_count": null,
   "metadata": {},
   "outputs": [],
   "source": [
    "# 查看数据类型\n",
    "type()"
   ]
  },
  {
   "cell_type": "code",
   "execution_count": null,
   "metadata": {},
   "outputs": [],
   "source": [
    "# 字符串\n",
    "# 1. 可以对字符串进行切片访问\n",
    "# 从左往右，索引从0开始；从右往左，索引从-1开始；切片索引按左开右闭原则\n",
    "var = \"Hello World\"\n",
    "var[0:5:2] #‘Hlo’ 2为步长\n",
    "var[::-1] #实现反转字符串功能\n",
    "\n",
    "# 2. 字符串常用操作\n",
    "len('good')\n",
    "'good'.replace('g','G')  #替换\n",
    "'山-水-风-雨'.split('-') #['山','水'，'风'，'雨']\n",
    "'好山好水好风光'.split('好') #['','山'，'水'，'风光']\n",
    "'-'.join['山','水','风','雨']\n",
    "'good'.upper()\n",
    "'Good'.lower()\n",
    "\"Hello World\".swapcase() #大小写互换\n",
    "'good'.islower() #判断是否全为小写\n",
    "'good'.isupper() #判断是否全为大写\n",
    "'3月'.zfill(3) #指定长度，如果长度不够，前面补0"
   ]
  },
  {
   "cell_type": "code",
   "execution_count": null,
   "metadata": {},
   "outputs": [],
   "source": [
    "#列表\n",
    "a = [1,2,3,1]\n",
    "len(a)\n",
    "max(a)\n",
    "min(a)\n",
    "sum(a)\n",
    "a.index(1) #返回1这个元素在列表中的位置\n",
    "a.count(1) #求列表中1这个元素的个数\n",
    "for i in a: print(i) #迭代元素\n",
    "sorted(a) #返回一个排序的列表，不改变原列表\n",
    "any(a) #是否至少有一个元素为真\n",
    "all(a) #是否所有元素为真\n",
    "a.append(4) #增加一个元素\n",
    "a.pop() #没执行一次，删除最后一个元素\n",
    "a.extend([9,8]) #与其他列表合并\n",
    "a.insert(1, 'a') #a: [1,'a',2,3] 在指定索引位插入元素，索引从0开始\n",
    "a.remove('a') #删除第一个指定元素\n",
    "a.clear() #清空"
   ]
  },
  {
   "cell_type": "code",
   "execution_count": null,
   "metadata": {},
   "outputs": [],
   "source": [
    "#列表推导式：由可迭代对象快速生成列表\n",
    "[i for i in range(5)] #[1,2,3,4]\n",
    "['第'+str(i) for i in range(5)] #['第0','第1','第2','第3','第4']\n",
    "[i for i in range(5) if i%2==0] #进行条件筛选，取偶数\n",
    "[i.upper() for i in 'Hello world' if i != ' '] \n",
    "#['H', 'E', 'L'.......'D'] 拆开字符，过滤空格，变为全大写"
   ]
  },
  {
   "cell_type": "code",
   "execution_count": 14,
   "metadata": {},
   "outputs": [
    {
     "data": {
      "text/plain": [
       "(1, [2, 3, 4, 5])"
      ]
     },
     "execution_count": 14,
     "metadata": {},
     "output_type": "execute_result"
    }
   ],
   "source": [
    "#元组\n",
    "# 元组的索引机制跟列表完全一样，但是元组是不可修改的，但是我们可以修改混杂类型里的列表类型元素\n",
    "\n",
    "#元组的解包操作\n",
    "\n",
    "x = (1,2,3,4,5)\n",
    "a,*b = x #a占第一个，剩余的组成列表，全给b\n",
    "a,b\n",
    "\n",
    "a,*b, c = x #a占第一个，c占最后一个，剩余的组成列表，全给b\n",
    "a,b,c"
   ]
  }
 ],
 "metadata": {
  "kernelspec": {
   "display_name": "Python 3.10.5 64-bit",
   "language": "python",
   "name": "python3"
  },
  "language_info": {
   "codemirror_mode": {
    "name": "ipython",
    "version": 3
   },
   "file_extension": ".py",
   "mimetype": "text/x-python",
   "name": "python",
   "nbconvert_exporter": "python",
   "pygments_lexer": "ipython3",
   "version": "3.10.5"
  },
  "orig_nbformat": 4,
  "vscode": {
   "interpreter": {
    "hash": "ef53e2d56b69f21cbdf9472524760b0d49e54fbb6e4f1956594431d50ac66008"
   }
  }
 },
 "nbformat": 4,
 "nbformat_minor": 2
}
